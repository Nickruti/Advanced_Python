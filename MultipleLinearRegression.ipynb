{
  "nbformat": 4,
  "nbformat_minor": 0,
  "metadata": {
    "colab": {
      "name": "MultipleLinearRegression.ipynb",
      "provenance": [],
      "authorship_tag": "ABX9TyNg0FXRQ3LWAXM5mjoAUtT6",
      "include_colab_link": true
    },
    "kernelspec": {
      "name": "python3",
      "display_name": "Python 3"
    }
  },
  "cells": [
    {
      "cell_type": "markdown",
      "metadata": {
        "id": "view-in-github",
        "colab_type": "text"
      },
      "source": [
        "<a href=\"https://colab.research.google.com/github/Nickruti/Advanced_Python/blob/main/MultipleLinearRegression.ipynb\" target=\"_parent\"><img src=\"https://colab.research.google.com/assets/colab-badge.svg\" alt=\"Open In Colab\"/></a>"
      ]
    },
    {
      "cell_type": "code",
      "metadata": {
        "colab": {
          "base_uri": "https://localhost:8080/"
        },
        "id": "CaLM8Mneau2E",
        "outputId": "7bbade7c-8074-4ba7-de22-b9891635f488"
      },
      "source": [
        "import pandas\r\n",
        "from sklearn import linear_model\r\n",
        "\r\n",
        "df = pandas.read_csv(\"HousePrices.csv\")\r\n",
        "\r\n",
        "X = df[['sqft', 'years']]\r\n",
        "y = df['price']\r\n",
        "\r\n",
        "regr = linear_model.LinearRegression()\r\n",
        "regr.fit(X, y)\r\n",
        "\r\n",
        "#predict the Houses price where the sqft is 2000, and is 3 years old:\r\n",
        "predictedPrice = regr.predict([[2000, 3]])\r\n",
        "\r\n",
        "print(predictedPrice)\r\n",
        "print(regr.intercept_)\r\n",
        "print(regr.coef_)"
      ],
      "execution_count": 11,
      "outputs": [
        {
          "output_type": "stream",
          "text": [
            "[341117.18597914]\n",
            "82309.75270780531\n",
            "[  137.44176179 -5358.69677097]\n"
          ],
          "name": "stdout"
        }
      ]
    }
  ]
}