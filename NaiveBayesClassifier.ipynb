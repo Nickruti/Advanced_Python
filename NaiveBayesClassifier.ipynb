{
  "nbformat": 4,
  "nbformat_minor": 0,
  "metadata": {
    "colab": {
      "name": "NaiveBayesClassifier.ipynb",
      "provenance": [],
      "authorship_tag": "ABX9TyN7vZaW5mQf4WigZeJ5dgQd",
      "include_colab_link": true
    },
    "kernelspec": {
      "name": "python3",
      "display_name": "Python 3"
    },
    "language_info": {
      "name": "python"
    }
  },
  "cells": [
    {
      "cell_type": "markdown",
      "metadata": {
        "id": "view-in-github",
        "colab_type": "text"
      },
      "source": [
        "<a href=\"https://colab.research.google.com/github/Nickruti/Advanced_Python/blob/main/NaiveBayesClassifier.ipynb\" target=\"_parent\"><img src=\"https://colab.research.google.com/assets/colab-badge.svg\" alt=\"Open In Colab\"/></a>"
      ]
    },
    {
      "cell_type": "code",
      "metadata": {
        "id": "mqkI4synYxH3"
      },
      "source": [
        "import numpy as np\n",
        "\n",
        "class GaussianNBClassifier:\n",
        "    def __init__(self):\n",
        "        pass\n",
        "\n",
        "    def separate_classes(self, X, y):\n",
        "      separated_classes = {}\n",
        "      for i in range(len(X)):\n",
        "          feature_values = X[i]\n",
        "          class_name = y[i]\n",
        "          if class_name not in separated_classes:\n",
        "              separated_classes[class_name] = []\n",
        "          separated_classes[class_name].append(feature_values)\n",
        "      return separated_classes\n",
        "\n",
        "    def summarize(self, X):\n",
        "      for feature in zip(*X):\n",
        "          yield {\n",
        "              'stdev' : np.std(feature),\n",
        "              'mean' : np.mean(feature)\n",
        "          }\n",
        "          \n",
        "    def gauss_distribution_function(self, x, mean, stdev):\n",
        "      exponent = np.exp(-((x-mean)**2 / (2*stdev**2)))\n",
        "      return exponent / (np.sqrt(2*np.pi)*stdev)\n",
        "\n",
        "    def fit(self, X, y):\n",
        "      separated_classes = self.separate_classes(X, y)\n",
        "      self.class_summary = {}\n",
        "      for class_name, feature_values in separated_classes.items():\n",
        "          self.class_summary[class_name] = {\n",
        "              'prior_proba': len(feature_values)/len(X),\n",
        "              'summary': [i for i in self.summarize(feature_values)],\n",
        "          }     \n",
        "      return self.class_summary\n",
        "\n",
        "    def predict(self, X):\n",
        "      MAPs = []\n",
        "      for row in X:\n",
        "          joint_proba = {}\n",
        "          for class_name, features in self.class_summary.items():\n",
        "              total_features = len(features['summary'])\n",
        "              likelihood = 1\n",
        "              for idx in range(total_features):\n",
        "                  feature = row[idx]\n",
        "                  mean = features['summary'][idx]['mean']\n",
        "                  stdev = features['summary'][idx]['stdev']\n",
        "                  normal_proba = self.gauss_distribution_function(feature, \\\n",
        "                  mean, stdev)\n",
        "                  likelihood *= normal_proba\n",
        "              prior_proba = features['prior_proba']\n",
        "              joint_proba[class_name] = prior_proba * likelihood\n",
        "          MAP = max(joint_proba, key=joint_proba.get)\n",
        "          MAPs.append(MAP)\n",
        "      return MAPs\n",
        "\n",
        "    def accuracy(self, y_test, y_pred):\n",
        "      true_true = 0\n",
        "      for y_t, y_p in zip(y_test, y_pred):\n",
        "          if y_t == y_p:\n",
        "              true_true += 1\n",
        "      return true_true / len(y_test)"
      ],
      "execution_count": null,
      "outputs": []
    },
    {
      "cell_type": "code",
      "metadata": {
        "colab": {
          "base_uri": "https://localhost:8080/"
        },
        "id": "3aHMR4KEZxsN",
        "outputId": "26b5494c-3456-4ac9-b0cb-6e4c194e7823"
      },
      "source": [
        "import pandas as pd\n",
        "\n",
        "data = pd.read_csv('500_Person_Gender_Height_Weight_Index.csv')\n",
        "data.Gender[data.Gender == 'Male'] = 1\n",
        "data.Gender[data.Gender == 'Female'] = 2\n",
        "print(data)\n"
      ],
      "execution_count": null,
      "outputs": [
        {
          "output_type": "stream",
          "text": [
            "    Gender  Height  Weight  Index\n",
            "0        1     174      96      4\n",
            "1        1     189      87      2\n",
            "2        2     185     110      4\n",
            "3        2     195     104      3\n",
            "4        1     149      61      3\n",
            "..     ...     ...     ...    ...\n",
            "495      2     150     153      5\n",
            "496      2     184     121      4\n",
            "497      2     141     136      5\n",
            "498      1     150      95      5\n",
            "499      1     173     131      5\n",
            "\n",
            "[500 rows x 4 columns]\n"
          ],
          "name": "stdout"
        },
        {
          "output_type": "stream",
          "text": [
            "/usr/local/lib/python3.7/dist-packages/ipykernel_launcher.py:4: SettingWithCopyWarning: \n",
            "A value is trying to be set on a copy of a slice from a DataFrame\n",
            "\n",
            "See the caveats in the documentation: https://pandas.pydata.org/pandas-docs/stable/user_guide/indexing.html#returning-a-view-versus-a-copy\n",
            "  after removing the cwd from sys.path.\n",
            "/usr/local/lib/python3.7/dist-packages/ipykernel_launcher.py:5: SettingWithCopyWarning: \n",
            "A value is trying to be set on a copy of a slice from a DataFrame\n",
            "\n",
            "See the caveats in the documentation: https://pandas.pydata.org/pandas-docs/stable/user_guide/indexing.html#returning-a-view-versus-a-copy\n",
            "  \"\"\"\n"
          ],
          "name": "stderr"
        }
      ]
    },
    {
      "cell_type": "code",
      "metadata": {
        "id": "zBjSh952Z6X9"
      },
      "source": [
        "y = list(map(lambda v: '1' if v == 0 or v == 5 else '0', data['Index'].values)) # target values as string\n",
        "\n",
        "X = data[['Gender', 'Height', 'Weight']].values # features values\n",
        "\n",
        "y_train = y[:350]\n",
        "y_val = y[350:]\n",
        "\n",
        "X_train = X[:350]\n",
        "X_val = X[350:]"
      ],
      "execution_count": 58,
      "outputs": []
    },
    {
      "cell_type": "code",
      "metadata": {
        "colab": {
          "base_uri": "https://localhost:8080/"
        },
        "id": "OZzkzF2AZdrg",
        "outputId": "de61b506-2ba6-446c-873e-aa2bd7564598"
      },
      "source": [
        "model = GaussianNBClassifier()\n",
        "model.fit(X_train, y_train)\n",
        "y_pred = model.predict(X_val)\n",
        "print (\"GaussianNBClassifier accuracy: {0:.3f}\".format(model.accuracy(y_val, y_pred)))"
      ],
      "execution_count": 59,
      "outputs": [
        {
          "output_type": "stream",
          "text": [
            "GaussianNBClassifier accuracy: 0.893\n"
          ],
          "name": "stdout"
        }
      ]
    },
    {
      "cell_type": "code",
      "metadata": {
        "colab": {
          "base_uri": "https://localhost:8080/"
        },
        "id": "_MAtIruEY1vY",
        "outputId": "ed51e4f0-e5b3-4815-b107-6392cb5db636"
      },
      "source": [
        "from sklearn.naive_bayes import GaussianNB\n",
        "from sklearn.metrics import accuracy_score\n",
        "\n",
        "model = GaussianNB()\n",
        "model.fit(X_train, y_train)\n",
        "y_pred = model.predict(X_val)\n",
        "print (\"Scikit-learn GaussianNB accuracy: {0:.3f}\".format(accuracy_score(y_val, y_pred)))"
      ],
      "execution_count": 60,
      "outputs": [
        {
          "output_type": "stream",
          "text": [
            "Scikit-learn GaussianNB accuracy: 0.893\n"
          ],
          "name": "stdout"
        }
      ]
    },
    {
      "cell_type": "code",
      "metadata": {
        "colab": {
          "base_uri": "https://localhost:8080/"
        },
        "id": "gfjqjEE7ahCq",
        "outputId": "cb72a01b-e107-4108-91ec-15931e1a6419"
      },
      "source": [
        "from sklearn.metrics import confusion_matrix\n",
        "print(confusion_matrix(y_val, y_pred))"
      ],
      "execution_count": 61,
      "outputs": [
        {
          "output_type": "stream",
          "text": [
            "[[79  5]\n",
            " [11 55]]\n"
          ],
          "name": "stdout"
        }
      ]
    },
    {
      "cell_type": "code",
      "metadata": {
        "colab": {
          "base_uri": "https://localhost:8080/"
        },
        "id": "hVg-mM-Ea1QM",
        "outputId": "411e776b-d7b2-41bc-ce53-f1359f5996bf"
      },
      "source": [
        "from sklearn.metrics import classification_report\n",
        "\n",
        "print(classification_report(y_val, y_pred))"
      ],
      "execution_count": 62,
      "outputs": [
        {
          "output_type": "stream",
          "text": [
            "              precision    recall  f1-score   support\n",
            "\n",
            "           0       0.88      0.94      0.91        84\n",
            "           1       0.92      0.83      0.87        66\n",
            "\n",
            "    accuracy                           0.89       150\n",
            "   macro avg       0.90      0.89      0.89       150\n",
            "weighted avg       0.89      0.89      0.89       150\n",
            "\n"
          ],
          "name": "stdout"
        }
      ]
    },
    {
      "cell_type": "code",
      "metadata": {
        "id": "K9ajTJ6ZbZnm"
      },
      "source": [
        "y_pred_prob = model.predict_proba(X_val)[:,0]"
      ],
      "execution_count": 63,
      "outputs": []
    },
    {
      "cell_type": "code",
      "metadata": {
        "id": "CDZSwdpEfXgp"
      },
      "source": [
        "y_val = np.array([int(i) for i in y_val])\n",
        "y_pred = np.array([int(i) for i in y_pred])"
      ],
      "execution_count": 64,
      "outputs": []
    },
    {
      "cell_type": "code",
      "metadata": {
        "colab": {
          "base_uri": "https://localhost:8080/",
          "height": 312
        },
        "id": "vyhvd6m-bHgH",
        "outputId": "aeb7938a-ea37-4511-f127-175b3374a855"
      },
      "source": [
        "from sklearn.metrics import roc_curve\n",
        "import matplotlib.pyplot as plt\n",
        "%matplotlib inline\n",
        "\n",
        "fpr, tpr, thresholds = roc_curve(y_val, y_pred)\n",
        "# create plot\n",
        "plt.plot(fpr, tpr, label='ROC curve')\n",
        "plt.plot([0, 1], [0, 1], 'k--', label='Random guess')\n",
        "plt.xlabel('False Positive Rate')\n",
        "plt.ylabel('True Positive Rate')\n",
        "plt.title('ROC Curve')\n",
        "plt.xlim([-0.02, 1])\n",
        "plt.ylim([0, 1.02])\n",
        "plt.legend(loc=\"lower right\")"
      ],
      "execution_count": 65,
      "outputs": [
        {
          "output_type": "execute_result",
          "data": {
            "text/plain": [
              "<matplotlib.legend.Legend at 0x7f7885a83710>"
            ]
          },
          "metadata": {
            "tags": []
          },
          "execution_count": 65
        },
        {
          "output_type": "display_data",
          "data": {
            "image/png": "[encoded data removed]",
            "text/plain": [
              "<Figure size 432x288 with 1 Axes>"
            ]
          },
          "metadata": {
            "tags": [],
            "needs_background": "light"
          }
        }
      ]
    },
    {
      "cell_type": "code",
      "metadata": {
        "colab": {
          "base_uri": "https://localhost:8080/"
        },
        "id": "vOEhmrv7J55I",
        "outputId": "0808467b-b928-494e-e83d-fda8c83a5385"
      },
      "source": [
        "y_pred = model.predict([[2, 146, 147],\n",
        " [1 ,188 ,65]])\n",
        "y_pred\n",
        "for i in y_pred:\n",
        "  if i == '1':\n",
        "    print(\"Follow Strict Diet\")\n",
        "  else:\n",
        "    print(\"No Strict Diet\")"
      ],
      "execution_count": 67,
      "outputs": [
        {
          "output_type": "stream",
          "text": [
            "Follow Strict Diet\n",
            "No Strict Diet\n"
          ],
          "name": "stdout"
        }
      ]
    }
  ]
}