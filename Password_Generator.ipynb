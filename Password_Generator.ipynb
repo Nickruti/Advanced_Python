{
  "nbformat": 4,
  "nbformat_minor": 0,
  "metadata": {
    "colab": {
      "name": "Password_Generator.ipynb",
      "provenance": [],
      "collapsed_sections": [],
      "authorship_tag": "ABX9TyMDojeLPvHXMzygOwRyzYH1",
      "include_colab_link": true
    },
    "kernelspec": {
      "name": "python3",
      "display_name": "Python 3"
    }
  },
  "cells": [
    {
      "cell_type": "markdown",
      "metadata": {
        "id": "view-in-github",
        "colab_type": "text"
      },
      "source": [
        "<a href=\"https://colab.research.google.com/github/Nickruti/Advanced_Python/blob/main/Password_Generator.ipynb\" target=\"_parent\"><img src=\"https://colab.research.google.com/assets/colab-badge.svg\" alt=\"Open In Colab\"/></a>"
      ]
    },
    {
      "cell_type": "markdown",
      "metadata": {
        "id": "4CetEaRETKnz"
      },
      "source": [
        "# **Password Generator using Python**\r\n",
        "\r\n",
        "It is a tool that generates passwords based on the given guidelines that you set to create an unpredictable strong password for your accounts.\r\n",
        "\r\n",
        "The Password generator tool creates a random and customized password for users that helps them to create a strong password which provides greater security.\r\n",
        "\r\n"
      ]
    },
    {
      "cell_type": "markdown",
      "metadata": {
        "id": "a8tNJxokT_uS"
      },
      "source": [
        "**Python modules used:** *Tkinter, random, string, pyperclip.*\r\n",
        "\r\n",
        "In this project, the user has to select the password length and then click on the “**Generate Password**” button. It will show the generated password below. If the user clicks on the “**Copy To Clipboard**” button, then it will copy the password automatically."
      ]
    },
    {
      "cell_type": "markdown",
      "metadata": {
        "id": "ItxDEgS_UleR"
      },
      "source": [
        "# **Project Prerequisites**\r\n",
        "To build this project we will use the basic concept of python and libraries – *Tkinter, pyperclip, random, string.*\r\n",
        "\r\n",
        "**Tkinter** is a standard GUI library and is one of the easiest ways to build a GUI application.\r\n",
        "\r\n",
        "**pyperclip** module allows us to copy and paste text to and from the clipboard to your computer.\r\n",
        "\r\n",
        "The **random** module can generate random numbers.\r\n",
        "\r\n",
        "**string** module contains a number of functions to process the standard python string."
      ]
    },
    {
      "cell_type": "markdown",
      "metadata": {
        "id": "jubJOb8jWT1h"
      },
      "source": [
        "# Install the libraries\r\n",
        "\r\n",
        "To install the libraries we can use pip installer from the command line:\r\n",
        "\r\n",
        "*pip install tkinter*\r\n",
        "\r\n",
        "*pip install pyperclip*\r\n",
        "\r\n",
        "*pip install random*\r\n",
        "\r\n",
        "*pip install strings*\r\n",
        "\r\n",
        "**The tkinter, random, strings libraries can be availale in default with most of the Python installation.**\r\n"
      ]
    },
    {
      "cell_type": "markdown",
      "metadata": {
        "id": "6ci3HC7eVOkj"
      },
      "source": [
        "# **Steps to create random password generator**"
      ]
    },
    {
      "cell_type": "markdown",
      "metadata": {
        "id": "9rbFCyslVWOB"
      },
      "source": [
        "# 1. Import Libraries\r\n",
        "The first step is to import libraries"
      ]
    },
    {
      "cell_type": "markdown",
      "metadata": {
        "id": "8DOjNqrhHTyC"
      },
      "source": [
        "\r\n",
        "\r\n",
        "```\r\n",
        "from tkinter import *\r\n",
        "import random, string\r\n",
        "import pyperclip\r\n",
        "```\r\n",
        "\r\n"
      ]
    },
    {
      "cell_type": "markdown",
      "metadata": {
        "id": "R2gdmM9QW4as"
      },
      "source": [
        "# 2. Initialize Window"
      ]
    },
    {
      "cell_type": "markdown",
      "metadata": {
        "id": "Q2MtG8xcHnKQ"
      },
      "source": [
        "\r\n",
        "\r\n",
        "```\r\n",
        "def main():\r\n",
        "    window=Tk()                                 #Tk() initialized tkinter which means window created\r\n",
        "    window.geometry(\"300x300\")                  #geometry() set the width and height of the window\r\n",
        "    window.resizable(0,0)                       #resizable(0,0) set the fixed size of the window\r\n",
        "    window.title(\"PASSWORD GENERATOR\")          #title() set the title of the window\r\n",
        "    mainloop()\r\n",
        "main()\r\n",
        "```\r\n",
        "\r\n"
      ]
    },
    {
      "cell_type": "markdown",
      "metadata": {
        "id": "qevMvDEmJOeJ"
      },
      "source": [
        "\r\n",
        "\r\n",
        "```\r\n",
        "Label(window, text = 'PASSWORD GENERATOR' , font ='arial 15 bold').pack()\r\n",
        "Label(window, text ='by Kruti', font ='arial 8 bold').pack(side = BOTTOM)\r\n",
        "```\r\n",
        "\r\n"
      ]
    },
    {
      "cell_type": "markdown",
      "metadata": {
        "id": "z5nGcYneJHgT"
      },
      "source": [
        "**Label()** widget use to display one or more than one line of text that users can’t able to modify.\r\n",
        "\r\n",
        "**window** is the name which we refer to our window\r\n",
        "\r\n",
        "**text** which we display on the label\r\n",
        "\r\n",
        "**font** in which the text is written\r\n",
        "\r\n",
        "**pack** organized widget in block"
      ]
    },
    {
      "cell_type": "markdown",
      "metadata": {
        "id": "-kafMBl8Jzdi"
      },
      "source": [
        "# 3. Select Password Length"
      ]
    },
    {
      "cell_type": "markdown",
      "metadata": {
        "id": "hkQZ-RplKJzD"
      },
      "source": [
        "\r\n",
        "\r\n",
        "```\r\n",
        "pass_label = Label(window, text = 'PASSWORD LENGTH', font = 'arial 10 bold').pack()\r\n",
        "pass_len = IntVar()\r\n",
        "length = Spinbox(window, from_ = 8, to_ = 32 , textvariable = pass_len , width = 15).pack()\r\n",
        "```\r\n",
        "\r\n"
      ]
    },
    {
      "cell_type": "markdown",
      "metadata": {
        "id": "cf-jHFnFKPpq"
      },
      "source": [
        "**pass_len** is an integer type variable that stores the length of a password.\r\n",
        "\r\n",
        "To select the password length we use **Spinbox()** widget.\r\n",
        "\r\n",
        "**Spinbox() widget** is used to select from a fixed number of values. Here the value from 8 to 32"
      ]
    },
    {
      "cell_type": "markdown",
      "metadata": {
        "id": "0e-3RiDUKpQK"
      },
      "source": [
        "# 4. Function to Generate Password"
      ]
    },
    {
      "cell_type": "markdown",
      "metadata": {
        "id": "Z9ew9tWkLGwh"
      },
      "source": [
        "\r\n",
        "\r\n",
        "```\r\n",
        "pass_str = StringVar()\r\n",
        "    def Generator():\r\n",
        "        password = ''\r\n",
        "\r\n",
        "        for x in range (0,4):\r\n",
        "            password = random.choice(string.ascii_uppercase) + random.choice(string.ascii_lowercase) + random.choice(string.digits) + random.choice(string.punctuation)\r\n",
        "        for y in range(pass_len.get()-4):\r\n",
        "            password = password + random.choice(string.ascii_uppercase + string.ascii_lowercase + string.digits + string.punctuation)\r\n",
        "        pass_str.set(password)\r\n",
        "```\r\n",
        "\r\n"
      ]
    },
    {
      "cell_type": "markdown",
      "metadata": {
        "id": "qEM69NtgLxyc"
      },
      "source": [
        "**pass_str** is a string type variable that stores the generated password\r\n",
        "\r\n",
        "**password = “”** is the empty string\r\n",
        "\r\n",
        "**First loop** will generate a string of length 4 which is a combination of an uppercase letter, a lowercase letter, digits, and a special symbol and that string will store in password variable.\r\n",
        "\r\n",
        "The **second loop** will generate a random string of length entered by the user – 4 and add to the password variable. Here we minus 4 to the length of the user because we already generate the string of length 4."
      ]
    },
    {
      "cell_type": "markdown",
      "metadata": {
        "id": "Re5HJfxFMSZW"
      },
      "source": [
        "*We have done this because we want a password which must contain an uppercase, a lowercase, a digit, and a special symbol*.\r\n",
        "\r\n",
        "Now the password is set to the **pass_str()** variable."
      ]
    },
    {
      "cell_type": "markdown",
      "metadata": {
        "id": "39gAguaLMtiC"
      },
      "source": [
        "\r\n",
        "\r\n",
        "```\r\n",
        "Button(window, text = \"GENERATE PASSWORD\" , command = Generator ).pack(pady= 5)\r\n",
        "Entry(window , textvariable = pass_str).pack()\r\n",
        "\r\n",
        "```\r\n",
        "\r\n"
      ]
    },
    {
      "cell_type": "markdown",
      "metadata": {
        "id": "waMjPRrgM6kq"
      },
      "source": [
        "**Button()** widget used to display button on our window\r\n",
        "\r\n",
        "**command** is called when the button is click\r\n",
        "\r\n",
        "**Entry()** widget used to create an input text field\r\n",
        "\r\n",
        "**textvariable** used to retrieve the current text to the entry widget"
      ]
    },
    {
      "cell_type": "markdown",
      "metadata": {
        "id": "tw4jkiPWNJUy"
      },
      "source": [
        "# 5. Function to Copy Password"
      ]
    },
    {
      "cell_type": "markdown",
      "metadata": {
        "id": "1lBUMAvINLHC"
      },
      "source": [
        "\r\n",
        "\r\n",
        "```\r\n",
        "def Copy_password():\r\n",
        "      pyperclip.copy(pass_str.get())\r\n",
        "\r\n",
        "Button(window, text = 'COPY TO CLIPBOARD', command = Copy_password).pack(pady=5)\r\n",
        "```\r\n",
        "\r\n"
      ]
    },
    {
      "cell_type": "markdown",
      "metadata": {
        "id": "PqumHXwmNhQb"
      },
      "source": [
        "**pyperclip.copy()** used to copy the text to clipboard"
      ]
    },
    {
      "cell_type": "markdown",
      "metadata": {
        "id": "tu75EjuANqjc"
      },
      "source": [
        "So our final code will look like -\r\n",
        "\r\n",
        "\r\n",
        "```\r\n",
        "from tkinter import *\r\n",
        "import random, string\r\n",
        "import pyperclip\r\n",
        "\r\n",
        "def main():\r\n",
        "    window=Tk()\r\n",
        "    window.geometry(\"300x300\")\r\n",
        "    window.resizable(0,0)\r\n",
        "    window.title(\"PASSWORD GENERATOR\")\r\n",
        "    Label(window, text = 'PASSWORD GENERATOR' , font ='arial 15 bold').pack()\r\n",
        "    Label(window, text ='by Kruti', font ='arial 8 bold').pack(side = BOTTOM)\r\n",
        "    pass_label = Label(window, text = 'PASSWORD LENGTH', font = 'arial 10 bold').pack()\r\n",
        "    pass_len = IntVar()\r\n",
        "    length = Spinbox(window, from_ = 8, to_ = 32 , textvariable = pass_len , width = 15).pack()\r\n",
        "\r\n",
        "    pass_str = StringVar()\r\n",
        "    def Generator():\r\n",
        "        password = ''\r\n",
        "\r\n",
        "        for x in range (0,4):\r\n",
        "            password = random.choice(string.ascii_uppercase) + random.choice(string.ascii_lowercase) + random.choice(string.digits) + random.choice(string.punctuation)\r\n",
        "        for y in range(pass_len.get()-4):\r\n",
        "            password = password + random.choice(string.ascii_uppercase + string.ascii_lowercase + string.digits + string.punctuation)\r\n",
        "        pass_str.set(password)\r\n",
        "\r\n",
        "    Button(window, text = \"GENERATE PASSWORD\" , command = Generator ).pack(pady= 5)\r\n",
        "    Entry(window , textvariable = pass_str).pack()\r\n",
        "\r\n",
        "    def Copy_password():\r\n",
        "        pyperclip.copy(pass_str.get())\r\n",
        "\r\n",
        "    Button(window, text = 'COPY TO CLIPBOARD', command = Copy_password).pack(pady=5)\r\n",
        "    mainloop()\r\n",
        "main()\r\n",
        "```\r\n",
        "\r\n"
      ]
    },
    {
      "cell_type": "markdown",
      "metadata": {
        "id": "hLU-TsWwOvf-"
      },
      "source": [
        "# **Python Password Generator Output**"
      ]
    },
    {
      "cell_type": "markdown",
      "metadata": {
        "id": "vAQlmcnIOFdz"
      },
      "source": [
        "![Password_Generator.PNG](data:image/png;base64,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)"
      ]
    },
    {
      "cell_type": "markdown",
      "metadata": {
        "id": "JModTLoBPmdz"
      },
      "source": [
        "# Summary\r\n",
        "With these steps, we have successfully created a random password generator project using python. We used popular tkinter library to rendering graphics in our display window and we also learned about pyperclip and random library.\r\n",
        "\r\n",
        "We learned how to create buttons, input textfield, labels, and spinbox. In this way, we successfully created our password generator python project. Hope you enjoyed it."
      ]
    },
    {
      "cell_type": "markdown",
      "metadata": {
        "id": "aJZBv5YMP5Fz"
      },
      "source": [
        "*Source : https://data-flair.training/blogs/python-password-generator/*"
      ]
    },
    {
      "cell_type": "markdown",
      "metadata": {
        "id": "k8vn1is5Os-M"
      },
      "source": [
        ""
      ]
    },
    {
      "cell_type": "markdown",
      "metadata": {
        "id": "iDwEgSKqNzkT"
      },
      "source": [
        ""
      ]
    }
  ]
}