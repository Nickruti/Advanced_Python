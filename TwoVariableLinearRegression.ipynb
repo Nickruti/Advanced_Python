{
  "nbformat": 4,
  "nbformat_minor": 0,
  "metadata": {
    "colab": {
      "name": "TwoVariableLinearRegression.ipynb",
      "provenance": [],
      "authorship_tag": "ABX9TyNxHLKgdpZQoJeDxqLy4uzC",
      "include_colab_link": true
    },
    "kernelspec": {
      "display_name": "Python 3",
      "name": "python3"
    }
  },
  "cells": [
    {
      "cell_type": "markdown",
      "metadata": {
        "id": "view-in-github",
        "colab_type": "text"
      },
      "source": [
        "<a href=\"https://colab.research.google.com/github/Nickruti/Advanced_Python/blob/main/TwoVariableLinearRegression.ipynb\" target=\"_parent\"><img src=\"https://colab.research.google.com/assets/colab-badge.svg\" alt=\"Open In Colab\"/></a>"
      ]
    },
    {
      "cell_type": "code",
      "metadata": {
        "id": "XvYzsECzpp__"
      },
      "source": [
        "import numpy as np\r\n",
        "import matplotlib.pyplot as plt\r\n",
        "import pandas as pd\r\n",
        "\r\n",
        "# Importing the dataset\r\n",
        "dataset = pd.read_csv('Gandhinagar_last_50_days_Petrol_Prices.csv')\r\n",
        "X = dataset.iloc[:, :-1].values #get a copy of dataset exclude last column\r\n",
        "y = dataset.iloc[:, 1].values #get array of dataset in column 1st"
      ],
      "execution_count": 6,
      "outputs": []
    },
    {
      "cell_type": "code",
      "metadata": {
        "id": "yNp4QZ2cp8Lz"
      },
      "source": [
        "# Splitting the dataset into the Training set and Test set\r\n",
        "from sklearn.model_selection import train_test_split \r\n",
        "X_train, X_test, y_train, y_test = train_test_split(X, y, test_size=1/3, random_state=0)\r\n"
      ],
      "execution_count": 7,
      "outputs": []
    },
    {
      "cell_type": "code",
      "metadata": {
        "colab": {
          "base_uri": "https://localhost:8080/"
        },
        "id": "0gLfMcuEqAjb",
        "outputId": "20157b79-1d8f-48f9-b117-5e3df3f0f260"
      },
      "source": [
        "# Fitting Simple Linear Regression to the Training set\r\n",
        "from sklearn.linear_model import LinearRegression\r\n",
        "regressor = LinearRegression()\r\n",
        "regressor.fit(X_train, y_train)"
      ],
      "execution_count": 8,
      "outputs": [
        {
          "output_type": "execute_result",
          "data": {
            "text/plain": [
              "LinearRegression(copy_X=True, fit_intercept=True, n_jobs=None, normalize=False)"
            ]
          },
          "metadata": {
            "tags": []
          },
          "execution_count": 8
        }
      ]
    },
    {
      "cell_type": "code",
      "metadata": {
        "colab": {
          "base_uri": "https://localhost:8080/",
          "height": 573
        },
        "id": "6JoF9-ZmqKrC",
        "outputId": "906b6a4e-6921-4c39-f7fb-cfb646bdb1a5"
      },
      "source": [
        "# Visualizing the Training set results\r\n",
        "viz_train = plt\r\n",
        "viz_train.scatter(X_train, y_train, color='red')\r\n",
        "viz_train.plot(X_train, regressor.predict(X_train), color='blue')\r\n",
        "viz_train.title('Day VS Petrol_Price (Training set)')\r\n",
        "viz_train.xlabel('Day')\r\n",
        "viz_train.ylabel('Price')\r\n",
        "viz_train.show()\r\n",
        "\r\n",
        "# Visualizing the Test set results\r\n",
        "viz_test = plt\r\n",
        "viz_test.scatter(X_test, y_test, color='red')\r\n",
        "viz_test.plot(X_train, regressor.predict(X_train), color='blue')\r\n",
        "viz_test.title('Day VS Petrol_Price (Test set)')\r\n",
        "viz_test.xlabel('Day')\r\n",
        "viz_test.ylabel('Price')\r\n",
        "viz_test.show()"
      ],
      "execution_count": 9,
      "outputs": [
        {
          "output_type": "display_data",
          "data": {
            "image/png": "[encoded data removed]",
            "text/plain": [
              "<Figure size 432x288 with 1 Axes>"
            ]
          },
          "metadata": {
            "tags": [],
            "needs_background": "light"
          }
        },
        {
          "output_type": "display_data",
          "data": {
            "image/png": "[encoded data removed]",
            "text/plain": [
              "<Figure size 432x288 with 1 Axes>"
            ]
          },
          "metadata": {
            "tags": [],
            "needs_background": "light"
          }
        }
      ]
    },
    {
      "cell_type": "code",
      "metadata": {
        "colab": {
          "base_uri": "https://localhost:8080/"
        },
        "id": "doHZvIYKzSKh",
        "outputId": "54042584-c40b-4e57-9665-df75f7c4bab8"
      },
      "source": [
        "y_pred = regressor.predict(np.array([105]).reshape(1, 1))\r\n",
        "y_pred"
      ],
      "execution_count": 12,
      "outputs": [
        {
          "output_type": "execute_result",
          "data": {
            "text/plain": [
              "array([94.26958979])"
            ]
          },
          "metadata": {
            "tags": []
          },
          "execution_count": 12
        }
      ]
    }
  ]
}